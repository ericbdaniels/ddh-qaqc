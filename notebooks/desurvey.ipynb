{
 "metadata": {
  "language_info": {
   "codemirror_mode": {
    "name": "ipython",
    "version": 3
   },
   "file_extension": ".py",
   "mimetype": "text/x-python",
   "name": "python",
   "nbconvert_exporter": "python",
   "pygments_lexer": "ipython3",
   "version": "3.7.3-final"
  },
  "orig_nbformat": 2,
  "kernelspec": {
   "name": "python3",
   "display_name": "Python 3"
  }
 },
 "nbformat": 4,
 "nbformat_minor": 2,
 "cells": [
  {
   "cell_type": "code",
   "execution_count": 10,
   "metadata": {},
   "outputs": [],
   "source": [
    "import pandas as pd\n",
    "import numpy as np"
   ]
  },
  {
   "cell_type": "code",
   "execution_count": 11,
   "metadata": {},
   "outputs": [],
   "source": [
    "assay = pd.read_csv(\"../data/assay.csv\")\n",
    "collar = pd.read_csv(\"../data/collar.csv\")\n",
    "survey = pd.read_csv(\"../data/survey.csv\")"
   ]
  },
  {
   "cell_type": "code",
   "execution_count": 12,
   "metadata": {},
   "outputs": [],
   "source": [
    "from desurvey import mincurve_desurvey, simple_desurvey"
   ]
  },
  {
   "cell_type": "code",
   "execution_count": 18,
   "metadata": {},
   "outputs": [],
   "source": [
    "def desurvey(survey, collar, interp_type=\"mincurve\"):\n",
    "    def get_coords(row):\n",
    "        if np.isnan(row.length):\n",
    "            icollar = collar[collar.DHID == row.DHID]\n",
    "            return {\"dhid\":row.DHID, \n",
    "                \"x\":icollar.X.values[0], \n",
    "                \"y\":icollar.Y.values[0], \n",
    "                \"z\":icollar.Z.values[0]}\n",
    "        else:\n",
    "            if interp_type ==\"mincurve\":\n",
    "                x,y,z = mincurve_desurvey(row.length, row.AZIMUTH, row.DIP, row.AZIMUTH2, row.DIP2)\n",
    "                return {\"dhid\":row.DHID,\"x\":x, \"y\":y, \"z\":-z}\n",
    "            elif interp_type==\"tangent\":\n",
    "                x,y,z = simple_desurvey(row.length, row.AZIMUTH, row.DIP)\n",
    "                return {\"dhid\":row.DHID,\"x\":x, \"y\":y, \"z\":-z}\n",
    "            else:\n",
    "                raise ValueError(f\"Invalid interpolation method: {interp_type}\")\n",
    "            \n",
    "\n",
    "    bhid_groups = survey.groupby(\"DHID\")\n",
    "    survey[\"length\"] = bhid_groups[\"DEPTH\"].diff()\n",
    "    survey[\"AZIMUTH2\"] = bhid_groups[\"AZIMUTH\"].shift(1)\n",
    "    survey[\"DIP2\"] = bhid_groups[\"DIP\"].shift(1)\n",
    "    coords = survey.apply(get_coords, axis=1, result_type=\"expand\")\n",
    "    coords[\"z\"] = coords.groupby(\"dhid\")[\"z\"].cumsum()\n",
    "    return coords"
   ]
  },
  {
   "cell_type": "code",
   "execution_count": 19,
   "metadata": {},
   "outputs": [
    {
     "output_type": "execute_result",
     "data": {
      "text/plain": [
       "     dhid             x         y          z\n",
       "0     0.0  4.533054e+00  0.000000  99.727177\n",
       "1     0.0  1.947928e-17  0.318121  94.082975\n",
       "2     0.0  1.270782e-17  0.207534  91.264025\n",
       "3     0.0  1.567230e-17  0.255948  88.449057\n",
       "4     0.0  1.863215e-17  0.304286  85.638903\n",
       "..    ...           ...       ...        ...\n",
       "367   9.0  7.250227e-17  1.184052  77.485825\n",
       "368   9.0  8.106984e-17  1.323971  69.154148\n",
       "369   9.0  8.961440e-17  1.463514  60.845847\n",
       "370   9.0  9.813395e-17  1.602649  52.563259\n",
       "371   9.0  1.066258e-16  1.741332  44.308715\n",
       "\n",
       "[372 rows x 4 columns]"
      ],
      "text/html": "<div>\n<style scoped>\n    .dataframe tbody tr th:only-of-type {\n        vertical-align: middle;\n    }\n\n    .dataframe tbody tr th {\n        vertical-align: top;\n    }\n\n    .dataframe thead th {\n        text-align: right;\n    }\n</style>\n<table border=\"1\" class=\"dataframe\">\n  <thead>\n    <tr style=\"text-align: right;\">\n      <th></th>\n      <th>dhid</th>\n      <th>x</th>\n      <th>y</th>\n      <th>z</th>\n    </tr>\n  </thead>\n  <tbody>\n    <tr>\n      <td>0</td>\n      <td>0.0</td>\n      <td>4.533054e+00</td>\n      <td>0.000000</td>\n      <td>99.727177</td>\n    </tr>\n    <tr>\n      <td>1</td>\n      <td>0.0</td>\n      <td>1.947928e-17</td>\n      <td>0.318121</td>\n      <td>94.082975</td>\n    </tr>\n    <tr>\n      <td>2</td>\n      <td>0.0</td>\n      <td>1.270782e-17</td>\n      <td>0.207534</td>\n      <td>91.264025</td>\n    </tr>\n    <tr>\n      <td>3</td>\n      <td>0.0</td>\n      <td>1.567230e-17</td>\n      <td>0.255948</td>\n      <td>88.449057</td>\n    </tr>\n    <tr>\n      <td>4</td>\n      <td>0.0</td>\n      <td>1.863215e-17</td>\n      <td>0.304286</td>\n      <td>85.638903</td>\n    </tr>\n    <tr>\n      <td>...</td>\n      <td>...</td>\n      <td>...</td>\n      <td>...</td>\n      <td>...</td>\n    </tr>\n    <tr>\n      <td>367</td>\n      <td>9.0</td>\n      <td>7.250227e-17</td>\n      <td>1.184052</td>\n      <td>77.485825</td>\n    </tr>\n    <tr>\n      <td>368</td>\n      <td>9.0</td>\n      <td>8.106984e-17</td>\n      <td>1.323971</td>\n      <td>69.154148</td>\n    </tr>\n    <tr>\n      <td>369</td>\n      <td>9.0</td>\n      <td>8.961440e-17</td>\n      <td>1.463514</td>\n      <td>60.845847</td>\n    </tr>\n    <tr>\n      <td>370</td>\n      <td>9.0</td>\n      <td>9.813395e-17</td>\n      <td>1.602649</td>\n      <td>52.563259</td>\n    </tr>\n    <tr>\n      <td>371</td>\n      <td>9.0</td>\n      <td>1.066258e-16</td>\n      <td>1.741332</td>\n      <td>44.308715</td>\n    </tr>\n  </tbody>\n</table>\n<p>372 rows × 4 columns</p>\n</div>"
     },
     "metadata": {},
     "execution_count": 19
    }
   ],
   "source": [
    "desurvey(survey, collar, interp_type=\"tangent\")"
   ]
  },
  {
   "cell_type": "code",
   "execution_count": null,
   "metadata": {},
   "outputs": [],
   "source": []
  }
 ]
}