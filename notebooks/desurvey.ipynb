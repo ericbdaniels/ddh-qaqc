{
 "metadata": {
  "language_info": {
   "codemirror_mode": {
    "name": "ipython",
    "version": 3
   },
   "file_extension": ".py",
   "mimetype": "text/x-python",
   "name": "python",
   "nbconvert_exporter": "python",
   "pygments_lexer": "ipython3",
   "version": "3.7.3-final"
  },
  "orig_nbformat": 2,
  "kernelspec": {
   "name": "python3",
   "display_name": "Python 3"
  }
 },
 "nbformat": 4,
 "nbformat_minor": 2,
 "cells": [
  {
   "cell_type": "code",
   "execution_count": 152,
   "metadata": {},
   "outputs": [],
   "source": [
    "import pandas as pd"
   ]
  },
  {
   "cell_type": "code",
   "execution_count": 153,
   "metadata": {},
   "outputs": [],
   "source": [
    "assay = pd.read_csv(\"../data/assay.csv\")\n",
    "collar = pd.read_csv(\"../data/collar.csv\")\n",
    "survey = pd.read_csv(\"../data/survey.csv\")"
   ]
  },
  {
   "cell_type": "code",
   "execution_count": 154,
   "metadata": {},
   "outputs": [],
   "source": [
    "from desurvey import mincurve_desurvey"
   ]
  },
  {
   "cell_type": "code",
   "execution_count": 157,
   "metadata": {},
   "outputs": [],
   "source": [
    "def desurvey(survey, collar):\n",
    "    def get_coords(row):\n",
    "        if np.isnan(row.length):\n",
    "            icollar = collar[collar.DHID == row.DHID]\n",
    "            return {\"dhid\":row.DHID, \n",
    "                \"x\":icollar.X.values[0], \n",
    "                \"y\":icollar.Y.values[0], \n",
    "                \"z\":icollar.Z.values[0]}\n",
    "        else:\n",
    "            x,y,z = mincurve_desurvey(row.length, row.AZIMUTH, row.DIP, row.AZIMUTH2, row.DIP2)\n",
    "            return {\"dhid\":row.DHID,\"x\":x, \"y\":y, \"z\":-z}\n",
    "\n",
    "    bhid_groups = survey.groupby(\"DHID\")\n",
    "    survey[\"length\"] = bhid_groups[\"DEPTH\"].diff()\n",
    "    survey[\"AZIMUTH2\"] = bhid_groups[\"AZIMUTH\"].shift(1)\n",
    "    survey[\"DIP2\"] = bhid_groups[\"DIP\"].shift(1)\n",
    "    coords = survey.apply(get_coords, axis=1, result_type=\"expand\")\n",
    "    coords[\"z\"] = coords.groupby(\"dhid\")[\"z\"].cumsum()\n",
    "    return coords"
   ]
  },
  {
   "cell_type": "code",
   "execution_count": 158,
   "metadata": {},
   "outputs": [
    {
     "output_type": "execute_result",
     "data": {
      "text/plain": [
       "     dhid         x             y          z\n",
       "0     0.0  4.533054  0.000000e+00  99.727177\n",
       "1     0.0  0.318121  1.947928e-17  94.082975\n",
       "2     0.0  0.183302  1.122401e-17  91.262380\n",
       "3     0.0  0.231747  1.419041e-17  88.445352\n",
       "4     0.0  0.280124  1.715264e-17  85.632722\n",
       "..    ...       ...           ...        ...\n",
       "367   9.0  1.113951  6.820985e-17  77.476288\n",
       "368   9.0  1.254041  7.678785e-17  69.133899\n",
       "369   9.0  1.393775  8.534412e-17  60.813714\n",
       "370   9.0  1.533118  9.387638e-17  52.518075\n",
       "371   9.0  1.672030  1.023823e-16  44.249315\n",
       "\n",
       "[372 rows x 4 columns]"
      ],
      "text/html": "<div>\n<style scoped>\n    .dataframe tbody tr th:only-of-type {\n        vertical-align: middle;\n    }\n\n    .dataframe tbody tr th {\n        vertical-align: top;\n    }\n\n    .dataframe thead th {\n        text-align: right;\n    }\n</style>\n<table border=\"1\" class=\"dataframe\">\n  <thead>\n    <tr style=\"text-align: right;\">\n      <th></th>\n      <th>dhid</th>\n      <th>x</th>\n      <th>y</th>\n      <th>z</th>\n    </tr>\n  </thead>\n  <tbody>\n    <tr>\n      <td>0</td>\n      <td>0.0</td>\n      <td>4.533054</td>\n      <td>0.000000e+00</td>\n      <td>99.727177</td>\n    </tr>\n    <tr>\n      <td>1</td>\n      <td>0.0</td>\n      <td>0.318121</td>\n      <td>1.947928e-17</td>\n      <td>94.082975</td>\n    </tr>\n    <tr>\n      <td>2</td>\n      <td>0.0</td>\n      <td>0.183302</td>\n      <td>1.122401e-17</td>\n      <td>91.262380</td>\n    </tr>\n    <tr>\n      <td>3</td>\n      <td>0.0</td>\n      <td>0.231747</td>\n      <td>1.419041e-17</td>\n      <td>88.445352</td>\n    </tr>\n    <tr>\n      <td>4</td>\n      <td>0.0</td>\n      <td>0.280124</td>\n      <td>1.715264e-17</td>\n      <td>85.632722</td>\n    </tr>\n    <tr>\n      <td>...</td>\n      <td>...</td>\n      <td>...</td>\n      <td>...</td>\n      <td>...</td>\n    </tr>\n    <tr>\n      <td>367</td>\n      <td>9.0</td>\n      <td>1.113951</td>\n      <td>6.820985e-17</td>\n      <td>77.476288</td>\n    </tr>\n    <tr>\n      <td>368</td>\n      <td>9.0</td>\n      <td>1.254041</td>\n      <td>7.678785e-17</td>\n      <td>69.133899</td>\n    </tr>\n    <tr>\n      <td>369</td>\n      <td>9.0</td>\n      <td>1.393775</td>\n      <td>8.534412e-17</td>\n      <td>60.813714</td>\n    </tr>\n    <tr>\n      <td>370</td>\n      <td>9.0</td>\n      <td>1.533118</td>\n      <td>9.387638e-17</td>\n      <td>52.518075</td>\n    </tr>\n    <tr>\n      <td>371</td>\n      <td>9.0</td>\n      <td>1.672030</td>\n      <td>1.023823e-16</td>\n      <td>44.249315</td>\n    </tr>\n  </tbody>\n</table>\n<p>372 rows × 4 columns</p>\n</div>"
     },
     "metadata": {},
     "execution_count": 158
    }
   ],
   "source": [
    "desurvey(survey, collar)"
   ]
  },
  {
   "cell_type": "code",
   "execution_count": null,
   "metadata": {},
   "outputs": [],
   "source": []
  }
 ]
}