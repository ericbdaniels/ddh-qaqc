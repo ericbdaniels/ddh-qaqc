{
 "metadata": {
  "language_info": {
   "codemirror_mode": {
    "name": "ipython",
    "version": 3
   },
   "file_extension": ".py",
   "mimetype": "text/x-python",
   "name": "python",
   "nbconvert_exporter": "python",
   "pygments_lexer": "ipython3",
   "version": "3.7.3-final"
  },
  "orig_nbformat": 2,
  "kernelspec": {
   "name": "python3",
   "display_name": "Python 3"
  }
 },
 "nbformat": 4,
 "nbformat_minor": 2,
 "cells": [
  {
   "cell_type": "code",
   "execution_count": 40,
   "metadata": {},
   "outputs": [],
   "source": [
    "import numpy as np\n",
    "\n",
    "\n",
    "def composite(ifrom, ito, values, comp_length=1.0, min_comp_length=-1.0):\n",
    "    \"\"\"\n",
    "    cfrom,cto,clen,cvar,cacum= composite(ifrom, ito, values,\n",
    "                                        comp_length = 1, min_comp_length=-1)\n",
    "\n",
    "    Composite intervals in a single drillhole. The From-To\n",
    "    intervals may be sorted.\n",
    "\n",
    "    Parameters\n",
    "    ----------\n",
    "    ifrom, ito:     1D arrays of floats\n",
    "        From - To  interval\n",
    "    values :   1D array of floats/integers\n",
    "        variable,\n",
    "    comp_length: Optional, float, default 1.\n",
    "        length of the compositing intervals\n",
    "    min_comp_length: Optional, float, defaul -1.\n",
    "        minimum length of the composite, if <=0 then min_comp_length = comp_length/2.\n",
    "\n",
    "    Return\n",
    "    -------\n",
    "    (cfrom, cto, clen, cvar, cacum)\n",
    "    cfrom, cto:  1D arrays of floats\n",
    "         From, To composited intervals\n",
    "    clen, cvar, cacum:  1D arrays of floats\n",
    "         total length of intervals composited\n",
    "         variable composited\n",
    "         variable accumulated\n",
    "\n",
    "    \"\"\"\n",
    "\n",
    "    assert ifrom.shape == ito.shape, \"Error: ifrom and ito with different shape\"\n",
    "    assert all(ifrom < ito), \"Error: ifrom >= ito, wrong or zero length intervals\"\n",
    "    assert all(np.isfinite(ifrom)), \"Error: ifrom with not finite elements\"\n",
    "    assert all(np.isfinite(ito)), \"Error: ito with not finite elements\"\n",
    "\n",
    "    if min_comp_length <= 0:\n",
    "        min_comp_length = comp_length / 2.0\n",
    "\n",
    "    ncomp = int(ito[-1] / comp_length + 1)\n",
    "    nintrb = len(ifrom)\n",
    "\n",
    "    # create the composite arrays\n",
    "    cfrom = np.arange(0.0, ito[-1] + comp_length, comp_length)\n",
    "    cto = cfrom + comp_length\n",
    "    clen = np.zeros(cto.shape)\n",
    "    cvar = np.zeros(cto.shape)\n",
    "    cvar[:] = np.nan\n",
    "    cacum = np.zeros(cto.shape)\n",
    "\n",
    "    iprop = np.zeros(ito.shape)\n",
    "\n",
    "    # for each composite\n",
    "    for i in range(ncomp):\n",
    "\n",
    "        # initialize proportions\n",
    "        iprop[:] = 0\n",
    "\n",
    "        # for each interval\n",
    "        for l in range(nintrb):\n",
    "\n",
    "            # ignore interval if variable is nan\n",
    "            if np.isnan(values[l]):\n",
    "                continue\n",
    "\n",
    "            # case a, below the composite\n",
    "            if ifrom[l] >= cto[i]:\n",
    "                break\n",
    "\n",
    "            # case b, over the composite\n",
    "            if ito[l] <= cfrom[i]:\n",
    "                continue\n",
    "\n",
    "            # --these are overlap--\n",
    "\n",
    "            # case overlap top or contained\n",
    "            if ito[l] > cfrom[i] and ito[l] <= cto[i]:\n",
    "\n",
    "                # case c, interval in composite\n",
    "                if ifrom[l] >= cfrom[i]:\n",
    "                    iprop[l] = ito[l] - ifrom[l]\n",
    "\n",
    "                # case d, overlap top\n",
    "                else:\n",
    "                    iprop[l] = ito[l] - cfrom[i]\n",
    "\n",
    "            # case e, composite in interval\n",
    "            if ifrom[l] < cfrom[i] and ito[l] > cto[i]:\n",
    "                iprop[l] = cto[i] - cfrom[i]\n",
    "                continue\n",
    "\n",
    "            # case f, overlap bottom\n",
    "            if ifrom[l] >= cfrom[i] and ifrom[l] < cto[i] and ito[l] > cto[i]:\n",
    "                iprop[l] = cto[i] - ifrom[l]\n",
    "                continue\n",
    "\n",
    "        clen[i] = np.nansum(iprop)\n",
    "\n",
    "        if clen[i] > min_comp_length:\n",
    "            cacum[i] = np.nansum(values * iprop)\n",
    "            cvar[i] = cacum[i] / clen[i]  # wighted average\n",
    "        else:\n",
    "            cvar[i] = np.nan\n",
    "            cacum[i] = np.nan\n",
    "\n",
    "    return cfrom, cto, clen, cvar, cacum"
   ]
  },
  {
   "cell_type": "code",
   "execution_count": 3,
   "metadata": {},
   "outputs": [],
   "source": [
    "import pandas as pd"
   ]
  },
  {
   "cell_type": "code",
   "execution_count": 4,
   "metadata": {},
   "outputs": [],
   "source": [
    "assay = pd.read_csv(\"../data/assay.csv\")"
   ]
  },
  {
   "cell_type": "code",
   "execution_count": 5,
   "metadata": {},
   "outputs": [
    {
     "output_type": "execute_result",
     "data": {
      "text/plain": [
       "   DHID  FROM   TO  _len  DUM  _acum  azmm       dipm        xm            ym  \\\n",
       "0     0   0.0  1.0   1.0  0.0    0.0  90.0  86.774025  4.561190 -1.229899e-09   \n",
       "1     0   1.0  2.0   1.0  0.0    0.0  90.0  86.774147  4.617463 -3.689650e-09   \n",
       "2     0   2.0  3.0   1.0  0.0    0.0  90.0  86.774086  4.673736 -6.149413e-09   \n",
       "3     0   3.0  4.0   1.0  0.0    0.0  90.0  86.774086  4.730009 -8.609211e-09   \n",
       "4     0   4.0  5.0   1.0  0.0    0.0  90.0  86.774086  4.786282 -1.106898e-08   \n",
       "\n",
       "   ...  azme       dipe        xe            ye         ze  dist_hw  dist_fw  \\\n",
       "0  ...  90.0  86.774147  4.589327 -2.459786e-09  98.728762     -1.0     -1.0   \n",
       "1  ...  90.0  86.774086  4.645599 -4.919526e-09  97.730346     -1.0     -1.0   \n",
       "2  ...  90.0  86.774025  4.701872 -7.379312e-09  96.731931     -1.0     -1.0   \n",
       "3  ...  90.0  86.774086  4.758146 -9.839098e-09  95.733516     -1.0     -1.0   \n",
       "4  ...  90.0  86.774086  4.814419 -1.229887e-08  94.735100     -1.0     -1.0   \n",
       "\n",
       "   D1_surf  D1_solid   Au  \n",
       "0     -1.0         0  0.0  \n",
       "1     -1.0         0  0.0  \n",
       "2     -1.0         0  0.0  \n",
       "3     -1.0         0  0.0  \n",
       "4     -1.0         0  0.0  \n",
       "\n",
       "[5 rows x 26 columns]"
      ],
      "text/html": "<div>\n<style scoped>\n    .dataframe tbody tr th:only-of-type {\n        vertical-align: middle;\n    }\n\n    .dataframe tbody tr th {\n        vertical-align: top;\n    }\n\n    .dataframe thead th {\n        text-align: right;\n    }\n</style>\n<table border=\"1\" class=\"dataframe\">\n  <thead>\n    <tr style=\"text-align: right;\">\n      <th></th>\n      <th>DHID</th>\n      <th>FROM</th>\n      <th>TO</th>\n      <th>_len</th>\n      <th>DUM</th>\n      <th>_acum</th>\n      <th>azmm</th>\n      <th>dipm</th>\n      <th>xm</th>\n      <th>ym</th>\n      <th>...</th>\n      <th>azme</th>\n      <th>dipe</th>\n      <th>xe</th>\n      <th>ye</th>\n      <th>ze</th>\n      <th>dist_hw</th>\n      <th>dist_fw</th>\n      <th>D1_surf</th>\n      <th>D1_solid</th>\n      <th>Au</th>\n    </tr>\n  </thead>\n  <tbody>\n    <tr>\n      <td>0</td>\n      <td>0</td>\n      <td>0.0</td>\n      <td>1.0</td>\n      <td>1.0</td>\n      <td>0.0</td>\n      <td>0.0</td>\n      <td>90.0</td>\n      <td>86.774025</td>\n      <td>4.561190</td>\n      <td>-1.229899e-09</td>\n      <td>...</td>\n      <td>90.0</td>\n      <td>86.774147</td>\n      <td>4.589327</td>\n      <td>-2.459786e-09</td>\n      <td>98.728762</td>\n      <td>-1.0</td>\n      <td>-1.0</td>\n      <td>-1.0</td>\n      <td>0</td>\n      <td>0.0</td>\n    </tr>\n    <tr>\n      <td>1</td>\n      <td>0</td>\n      <td>1.0</td>\n      <td>2.0</td>\n      <td>1.0</td>\n      <td>0.0</td>\n      <td>0.0</td>\n      <td>90.0</td>\n      <td>86.774147</td>\n      <td>4.617463</td>\n      <td>-3.689650e-09</td>\n      <td>...</td>\n      <td>90.0</td>\n      <td>86.774086</td>\n      <td>4.645599</td>\n      <td>-4.919526e-09</td>\n      <td>97.730346</td>\n      <td>-1.0</td>\n      <td>-1.0</td>\n      <td>-1.0</td>\n      <td>0</td>\n      <td>0.0</td>\n    </tr>\n    <tr>\n      <td>2</td>\n      <td>0</td>\n      <td>2.0</td>\n      <td>3.0</td>\n      <td>1.0</td>\n      <td>0.0</td>\n      <td>0.0</td>\n      <td>90.0</td>\n      <td>86.774086</td>\n      <td>4.673736</td>\n      <td>-6.149413e-09</td>\n      <td>...</td>\n      <td>90.0</td>\n      <td>86.774025</td>\n      <td>4.701872</td>\n      <td>-7.379312e-09</td>\n      <td>96.731931</td>\n      <td>-1.0</td>\n      <td>-1.0</td>\n      <td>-1.0</td>\n      <td>0</td>\n      <td>0.0</td>\n    </tr>\n    <tr>\n      <td>3</td>\n      <td>0</td>\n      <td>3.0</td>\n      <td>4.0</td>\n      <td>1.0</td>\n      <td>0.0</td>\n      <td>0.0</td>\n      <td>90.0</td>\n      <td>86.774086</td>\n      <td>4.730009</td>\n      <td>-8.609211e-09</td>\n      <td>...</td>\n      <td>90.0</td>\n      <td>86.774086</td>\n      <td>4.758146</td>\n      <td>-9.839098e-09</td>\n      <td>95.733516</td>\n      <td>-1.0</td>\n      <td>-1.0</td>\n      <td>-1.0</td>\n      <td>0</td>\n      <td>0.0</td>\n    </tr>\n    <tr>\n      <td>4</td>\n      <td>0</td>\n      <td>4.0</td>\n      <td>5.0</td>\n      <td>1.0</td>\n      <td>0.0</td>\n      <td>0.0</td>\n      <td>90.0</td>\n      <td>86.774086</td>\n      <td>4.786282</td>\n      <td>-1.106898e-08</td>\n      <td>...</td>\n      <td>90.0</td>\n      <td>86.774086</td>\n      <td>4.814419</td>\n      <td>-1.229887e-08</td>\n      <td>94.735100</td>\n      <td>-1.0</td>\n      <td>-1.0</td>\n      <td>-1.0</td>\n      <td>0</td>\n      <td>0.0</td>\n    </tr>\n  </tbody>\n</table>\n<p>5 rows × 26 columns</p>\n</div>"
     },
     "metadata": {},
     "execution_count": 5
    }
   ],
   "source": [
    "assay.head()"
   ]
  },
  {
   "cell_type": "code",
   "execution_count": 8,
   "metadata": {},
   "outputs": [],
   "source": [
    "dh = assay[assay.DHID==1]"
   ]
  },
  {
   "cell_type": "code",
   "execution_count": 41,
   "metadata": {},
   "outputs": [
    {
     "output_type": "execute_result",
     "data": {
      "text/plain": [
       "(array([  0.,   5.,  10.,  15.,  20.,  25.,  30.,  35.,  40.,  45.,  50.,\n",
       "         55.,  60.,  65.,  70.,  75.,  80.,  85.,  90.,  95., 100.]),\n",
       " array([  5.,  10.,  15.,  20.,  25.,  30.,  35.,  40.,  45.,  50.,  55.,\n",
       "         60.,  65.,  70.,  75.,  80.,  85.,  90.,  95., 100., 105.]),\n",
       " array([5., 5., 5., 5., 5., 5., 5., 5., 5., 5., 5., 5., 5., 5., 5., 5., 5.,\n",
       "        5., 5., 3., 0.]),\n",
       " array([0.        , 0.        , 0.        , 0.        , 0.        ,\n",
       "        0.        , 0.        , 0.        , 0.        , 0.        ,\n",
       "        0.        , 0.20670178, 0.44581511, 0.63424236, 1.13118806,\n",
       "        0.52430974, 0.88292212, 0.11915897, 0.        , 0.        ,\n",
       "               nan]),\n",
       " array([0.        , 0.        , 0.        , 0.        , 0.        ,\n",
       "        0.        , 0.        , 0.        , 0.        , 0.        ,\n",
       "        0.        , 1.03350891, 2.22907555, 3.17121182, 5.65594032,\n",
       "        2.62154868, 4.4146106 , 0.59579487, 0.        , 0.        ,\n",
       "        0.        ]))"
      ]
     },
     "metadata": {},
     "execution_count": 41
    }
   ],
   "source": [
    "composite(dh.FROM.values, dh.TO.values, dh.Au.values, comp_length=5)"
   ]
  },
  {
   "cell_type": "code",
   "execution_count": 50,
   "metadata": {},
   "outputs": [],
   "source": [
    "def composite_dh(dh, comp_len, var_name):\n",
    "    return composite(dh.FROM.values, dh.TO.values, dh[var_name].values, comp_len)\n",
    "    "
   ]
  },
  {
   "cell_type": "code",
   "execution_count": 54,
   "metadata": {},
   "outputs": [],
   "source": [
    "groups = assay.groupby(\"DHID\")\n",
    "result = groups.apply(composite_dh, 5,\"Au\")"
   ]
  },
  {
   "cell_type": "code",
   "execution_count": 62,
   "metadata": {},
   "outputs": [],
   "source": [
    "df = pd.DataFrame(list(result))"
   ]
  },
  {
   "cell_type": "code",
   "execution_count": 91,
   "metadata": {},
   "outputs": [
    {
     "output_type": "execute_result",
     "data": {
      "text/plain": [
       "DHID                                                 0   \\\n",
       "0     ([0.0, 5.0, 10.0, 15.0, 20.0, 25.0, 30.0, 35.0...   \n",
       "\n",
       "DHID                                                 1   \\\n",
       "0     ([0.0, 5.0, 10.0, 15.0, 20.0, 25.0, 30.0, 35.0...   \n",
       "\n",
       "DHID                                                 2   \\\n",
       "0     ([0.0, 5.0, 10.0, 15.0, 20.0, 25.0, 30.0, 35.0...   \n",
       "\n",
       "DHID                                                 3   \\\n",
       "0     ([0.0, 5.0, 10.0, 15.0, 20.0, 25.0, 30.0, 35.0...   \n",
       "\n",
       "DHID                                                 4   \\\n",
       "0     ([0.0, 5.0, 10.0, 15.0, 20.0, 25.0, 30.0, 35.0...   \n",
       "\n",
       "DHID                                                 5   \\\n",
       "0     ([0.0, 5.0, 10.0, 15.0, 20.0, 25.0, 30.0, 35.0...   \n",
       "\n",
       "DHID                                                 6   \\\n",
       "0     ([0.0, 5.0, 10.0, 15.0, 20.0, 25.0, 30.0, 35.0...   \n",
       "\n",
       "DHID                                                 7   \\\n",
       "0     ([0.0, 5.0, 10.0, 15.0, 20.0, 25.0, 30.0, 35.0...   \n",
       "\n",
       "DHID                                                 8   \\\n",
       "0     ([0.0, 5.0, 10.0, 15.0, 20.0, 25.0, 30.0, 35.0...   \n",
       "\n",
       "DHID                                                 9   ...  \\\n",
       "0     ([0.0, 5.0, 10.0, 15.0, 20.0, 25.0, 30.0, 35.0...  ...   \n",
       "\n",
       "DHID                                                 19  \\\n",
       "0     ([0.0, 5.0, 10.0, 15.0, 20.0, 25.0, 30.0, 35.0...   \n",
       "\n",
       "DHID                                                 20  \\\n",
       "0     ([0.0, 5.0, 10.0, 15.0, 20.0, 25.0, 30.0, 35.0...   \n",
       "\n",
       "DHID                                                 21  \\\n",
       "0     ([0.0, 5.0, 10.0, 15.0, 20.0, 25.0, 30.0, 35.0...   \n",
       "\n",
       "DHID                                                 22  \\\n",
       "0     ([0.0, 5.0, 10.0, 15.0, 20.0, 25.0, 30.0, 35.0...   \n",
       "\n",
       "DHID                                                 23  \\\n",
       "0     ([0.0, 5.0, 10.0, 15.0, 20.0, 25.0, 30.0, 35.0...   \n",
       "\n",
       "DHID                                                 24  \\\n",
       "0     ([0.0, 5.0, 10.0, 15.0, 20.0, 25.0, 30.0, 35.0...   \n",
       "\n",
       "DHID                                                 25  \\\n",
       "0     ([0.0, 5.0, 10.0, 15.0, 20.0, 25.0, 30.0, 35.0...   \n",
       "\n",
       "DHID                                                 26  \\\n",
       "0     ([0.0, 5.0, 10.0, 15.0, 20.0, 25.0, 30.0], [5....   \n",
       "\n",
       "DHID                                                 27  \\\n",
       "0     ([0.0, 5.0, 10.0, 15.0, 20.0, 25.0, 30.0, 35.0...   \n",
       "\n",
       "DHID                                                 28  \n",
       "0     ([0.0, 5.0, 10.0, 15.0, 20.0, 25.0, 30.0], [5....  \n",
       "\n",
       "[1 rows x 29 columns]"
      ],
      "text/html": "<div>\n<style scoped>\n    .dataframe tbody tr th:only-of-type {\n        vertical-align: middle;\n    }\n\n    .dataframe tbody tr th {\n        vertical-align: top;\n    }\n\n    .dataframe thead th {\n        text-align: right;\n    }\n</style>\n<table border=\"1\" class=\"dataframe\">\n  <thead>\n    <tr style=\"text-align: right;\">\n      <th>DHID</th>\n      <th>0</th>\n      <th>1</th>\n      <th>2</th>\n      <th>3</th>\n      <th>4</th>\n      <th>5</th>\n      <th>6</th>\n      <th>7</th>\n      <th>8</th>\n      <th>9</th>\n      <th>...</th>\n      <th>19</th>\n      <th>20</th>\n      <th>21</th>\n      <th>22</th>\n      <th>23</th>\n      <th>24</th>\n      <th>25</th>\n      <th>26</th>\n      <th>27</th>\n      <th>28</th>\n    </tr>\n  </thead>\n  <tbody>\n    <tr>\n      <td>0</td>\n      <td>([0.0, 5.0, 10.0, 15.0, 20.0, 25.0, 30.0, 35.0...</td>\n      <td>([0.0, 5.0, 10.0, 15.0, 20.0, 25.0, 30.0, 35.0...</td>\n      <td>([0.0, 5.0, 10.0, 15.0, 20.0, 25.0, 30.0, 35.0...</td>\n      <td>([0.0, 5.0, 10.0, 15.0, 20.0, 25.0, 30.0, 35.0...</td>\n      <td>([0.0, 5.0, 10.0, 15.0, 20.0, 25.0, 30.0, 35.0...</td>\n      <td>([0.0, 5.0, 10.0, 15.0, 20.0, 25.0, 30.0, 35.0...</td>\n      <td>([0.0, 5.0, 10.0, 15.0, 20.0, 25.0, 30.0, 35.0...</td>\n      <td>([0.0, 5.0, 10.0, 15.0, 20.0, 25.0, 30.0, 35.0...</td>\n      <td>([0.0, 5.0, 10.0, 15.0, 20.0, 25.0, 30.0, 35.0...</td>\n      <td>([0.0, 5.0, 10.0, 15.0, 20.0, 25.0, 30.0, 35.0...</td>\n      <td>...</td>\n      <td>([0.0, 5.0, 10.0, 15.0, 20.0, 25.0, 30.0, 35.0...</td>\n      <td>([0.0, 5.0, 10.0, 15.0, 20.0, 25.0, 30.0, 35.0...</td>\n      <td>([0.0, 5.0, 10.0, 15.0, 20.0, 25.0, 30.0, 35.0...</td>\n      <td>([0.0, 5.0, 10.0, 15.0, 20.0, 25.0, 30.0, 35.0...</td>\n      <td>([0.0, 5.0, 10.0, 15.0, 20.0, 25.0, 30.0, 35.0...</td>\n      <td>([0.0, 5.0, 10.0, 15.0, 20.0, 25.0, 30.0, 35.0...</td>\n      <td>([0.0, 5.0, 10.0, 15.0, 20.0, 25.0, 30.0, 35.0...</td>\n      <td>([0.0, 5.0, 10.0, 15.0, 20.0, 25.0, 30.0], [5....</td>\n      <td>([0.0, 5.0, 10.0, 15.0, 20.0, 25.0, 30.0, 35.0...</td>\n      <td>([0.0, 5.0, 10.0, 15.0, 20.0, 25.0, 30.0], [5....</td>\n    </tr>\n  </tbody>\n</table>\n<p>1 rows × 29 columns</p>\n</div>"
     },
     "metadata": {},
     "execution_count": 91
    }
   ],
   "source": [
    "pd.DataFrame(result).T"
   ]
  },
  {
   "cell_type": "code",
   "execution_count": null,
   "metadata": {},
   "outputs": [],
   "source": []
  }
 ]
}