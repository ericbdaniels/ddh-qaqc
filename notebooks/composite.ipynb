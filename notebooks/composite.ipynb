{
 "metadata": {
  "language_info": {
   "codemirror_mode": {
    "name": "ipython",
    "version": 3
   },
   "file_extension": ".py",
   "mimetype": "text/x-python",
   "name": "python",
   "nbconvert_exporter": "python",
   "pygments_lexer": "ipython3",
   "version": "3.7.3-final"
  },
  "orig_nbformat": 2,
  "kernelspec": {
   "name": "python3",
   "display_name": "Python 3"
  }
 },
 "nbformat": 4,
 "nbformat_minor": 2,
 "cells": [
  {
   "cell_type": "code",
   "execution_count": 19,
   "metadata": {},
   "outputs": [],
   "source": [
    "import numpy as np\n",
    "import desurvey\n",
    "import composite\n",
    "import dask.dataframe as dd\n",
    "import pandas as pd"
   ]
  },
  {
   "cell_type": "code",
   "execution_count": 36,
   "metadata": {},
   "outputs": [],
   "source": [
    "assay = pd.read_csv(\"../data/assay.csv\")\n",
    "survey =pd.read_csv(\"../data/survey.csv\")\n",
    "collar =pd.read_csv(\"../data/collar.csv\")"
   ]
  },
  {
   "cell_type": "code",
   "execution_count": 37,
   "metadata": {},
   "outputs": [],
   "source": [
    "assay = dd.from_pandas(assay, npartitions=2)"
   ]
  },
  {
   "cell_type": "code",
   "execution_count": 5,
   "metadata": {},
   "outputs": [
    {
     "output_type": "execute_result",
     "data": {
      "text/plain": [
       "   DHID  FROM   TO  _len  DUM  _acum  azmm       dipm        xm            ym  \\\n",
       "0     0   0.0  1.0   1.0  0.0    0.0  90.0  86.774025  4.561190 -1.229899e-09   \n",
       "1     0   1.0  2.0   1.0  0.0    0.0  90.0  86.774147  4.617463 -3.689650e-09   \n",
       "2     0   2.0  3.0   1.0  0.0    0.0  90.0  86.774086  4.673736 -6.149413e-09   \n",
       "3     0   3.0  4.0   1.0  0.0    0.0  90.0  86.774086  4.730009 -8.609211e-09   \n",
       "4     0   4.0  5.0   1.0  0.0    0.0  90.0  86.774086  4.786282 -1.106898e-08   \n",
       "\n",
       "   ...  azme       dipe        xe            ye         ze  dist_hw  dist_fw  \\\n",
       "0  ...  90.0  86.774147  4.589327 -2.459786e-09  98.728762     -1.0     -1.0   \n",
       "1  ...  90.0  86.774086  4.645599 -4.919526e-09  97.730346     -1.0     -1.0   \n",
       "2  ...  90.0  86.774025  4.701872 -7.379312e-09  96.731931     -1.0     -1.0   \n",
       "3  ...  90.0  86.774086  4.758146 -9.839098e-09  95.733516     -1.0     -1.0   \n",
       "4  ...  90.0  86.774086  4.814419 -1.229887e-08  94.735100     -1.0     -1.0   \n",
       "\n",
       "   D1_surf  D1_solid   Au  \n",
       "0     -1.0         0  0.0  \n",
       "1     -1.0         0  0.0  \n",
       "2     -1.0         0  0.0  \n",
       "3     -1.0         0  0.0  \n",
       "4     -1.0         0  0.0  \n",
       "\n",
       "[5 rows x 26 columns]"
      ],
      "text/html": "<div>\n<style scoped>\n    .dataframe tbody tr th:only-of-type {\n        vertical-align: middle;\n    }\n\n    .dataframe tbody tr th {\n        vertical-align: top;\n    }\n\n    .dataframe thead th {\n        text-align: right;\n    }\n</style>\n<table border=\"1\" class=\"dataframe\">\n  <thead>\n    <tr style=\"text-align: right;\">\n      <th></th>\n      <th>DHID</th>\n      <th>FROM</th>\n      <th>TO</th>\n      <th>_len</th>\n      <th>DUM</th>\n      <th>_acum</th>\n      <th>azmm</th>\n      <th>dipm</th>\n      <th>xm</th>\n      <th>ym</th>\n      <th>...</th>\n      <th>azme</th>\n      <th>dipe</th>\n      <th>xe</th>\n      <th>ye</th>\n      <th>ze</th>\n      <th>dist_hw</th>\n      <th>dist_fw</th>\n      <th>D1_surf</th>\n      <th>D1_solid</th>\n      <th>Au</th>\n    </tr>\n  </thead>\n  <tbody>\n    <tr>\n      <td>0</td>\n      <td>0</td>\n      <td>0.0</td>\n      <td>1.0</td>\n      <td>1.0</td>\n      <td>0.0</td>\n      <td>0.0</td>\n      <td>90.0</td>\n      <td>86.774025</td>\n      <td>4.561190</td>\n      <td>-1.229899e-09</td>\n      <td>...</td>\n      <td>90.0</td>\n      <td>86.774147</td>\n      <td>4.589327</td>\n      <td>-2.459786e-09</td>\n      <td>98.728762</td>\n      <td>-1.0</td>\n      <td>-1.0</td>\n      <td>-1.0</td>\n      <td>0</td>\n      <td>0.0</td>\n    </tr>\n    <tr>\n      <td>1</td>\n      <td>0</td>\n      <td>1.0</td>\n      <td>2.0</td>\n      <td>1.0</td>\n      <td>0.0</td>\n      <td>0.0</td>\n      <td>90.0</td>\n      <td>86.774147</td>\n      <td>4.617463</td>\n      <td>-3.689650e-09</td>\n      <td>...</td>\n      <td>90.0</td>\n      <td>86.774086</td>\n      <td>4.645599</td>\n      <td>-4.919526e-09</td>\n      <td>97.730346</td>\n      <td>-1.0</td>\n      <td>-1.0</td>\n      <td>-1.0</td>\n      <td>0</td>\n      <td>0.0</td>\n    </tr>\n    <tr>\n      <td>2</td>\n      <td>0</td>\n      <td>2.0</td>\n      <td>3.0</td>\n      <td>1.0</td>\n      <td>0.0</td>\n      <td>0.0</td>\n      <td>90.0</td>\n      <td>86.774086</td>\n      <td>4.673736</td>\n      <td>-6.149413e-09</td>\n      <td>...</td>\n      <td>90.0</td>\n      <td>86.774025</td>\n      <td>4.701872</td>\n      <td>-7.379312e-09</td>\n      <td>96.731931</td>\n      <td>-1.0</td>\n      <td>-1.0</td>\n      <td>-1.0</td>\n      <td>0</td>\n      <td>0.0</td>\n    </tr>\n    <tr>\n      <td>3</td>\n      <td>0</td>\n      <td>3.0</td>\n      <td>4.0</td>\n      <td>1.0</td>\n      <td>0.0</td>\n      <td>0.0</td>\n      <td>90.0</td>\n      <td>86.774086</td>\n      <td>4.730009</td>\n      <td>-8.609211e-09</td>\n      <td>...</td>\n      <td>90.0</td>\n      <td>86.774086</td>\n      <td>4.758146</td>\n      <td>-9.839098e-09</td>\n      <td>95.733516</td>\n      <td>-1.0</td>\n      <td>-1.0</td>\n      <td>-1.0</td>\n      <td>0</td>\n      <td>0.0</td>\n    </tr>\n    <tr>\n      <td>4</td>\n      <td>0</td>\n      <td>4.0</td>\n      <td>5.0</td>\n      <td>1.0</td>\n      <td>0.0</td>\n      <td>0.0</td>\n      <td>90.0</td>\n      <td>86.774086</td>\n      <td>4.786282</td>\n      <td>-1.106898e-08</td>\n      <td>...</td>\n      <td>90.0</td>\n      <td>86.774086</td>\n      <td>4.814419</td>\n      <td>-1.229887e-08</td>\n      <td>94.735100</td>\n      <td>-1.0</td>\n      <td>-1.0</td>\n      <td>-1.0</td>\n      <td>0</td>\n      <td>0.0</td>\n    </tr>\n  </tbody>\n</table>\n<p>5 rows × 26 columns</p>\n</div>"
     },
     "metadata": {},
     "execution_count": 5
    }
   ],
   "source": [
    "assay.head()"
   ]
  },
  {
   "cell_type": "code",
   "execution_count": 6,
   "metadata": {},
   "outputs": [
    {
     "output_type": "execute_result",
     "data": {
      "text/plain": [
       "   DHID      DEPTH        DIP  AZIMUTH\n",
       "0     0   0.000000  86.774086     90.0\n",
       "1     0   5.653160  86.774086     90.0\n",
       "2     0   8.479740  85.789413     90.0\n",
       "3     0  11.306320  84.804726     90.0\n",
       "4     0  14.132899  83.820038     90.0"
      ],
      "text/html": "<div>\n<style scoped>\n    .dataframe tbody tr th:only-of-type {\n        vertical-align: middle;\n    }\n\n    .dataframe tbody tr th {\n        vertical-align: top;\n    }\n\n    .dataframe thead th {\n        text-align: right;\n    }\n</style>\n<table border=\"1\" class=\"dataframe\">\n  <thead>\n    <tr style=\"text-align: right;\">\n      <th></th>\n      <th>DHID</th>\n      <th>DEPTH</th>\n      <th>DIP</th>\n      <th>AZIMUTH</th>\n    </tr>\n  </thead>\n  <tbody>\n    <tr>\n      <td>0</td>\n      <td>0</td>\n      <td>0.000000</td>\n      <td>86.774086</td>\n      <td>90.0</td>\n    </tr>\n    <tr>\n      <td>1</td>\n      <td>0</td>\n      <td>5.653160</td>\n      <td>86.774086</td>\n      <td>90.0</td>\n    </tr>\n    <tr>\n      <td>2</td>\n      <td>0</td>\n      <td>8.479740</td>\n      <td>85.789413</td>\n      <td>90.0</td>\n    </tr>\n    <tr>\n      <td>3</td>\n      <td>0</td>\n      <td>11.306320</td>\n      <td>84.804726</td>\n      <td>90.0</td>\n    </tr>\n    <tr>\n      <td>4</td>\n      <td>0</td>\n      <td>14.132899</td>\n      <td>83.820038</td>\n      <td>90.0</td>\n    </tr>\n  </tbody>\n</table>\n</div>"
     },
     "metadata": {},
     "execution_count": 6
    }
   ],
   "source": [
    "survey.head()"
   ]
  },
  {
   "cell_type": "code",
   "execution_count": 7,
   "metadata": {},
   "outputs": [
    {
     "output_type": "execute_result",
     "data": {
      "text/plain": [
       "   DHID           X      Y           Z     LENGTH\n",
       "0     0    4.533054    0.0   99.727177  79.144237\n",
       "1     1   35.592865    0.0  112.151102  97.982238\n",
       "2    10  158.321091   50.0  105.771249  53.218356\n",
       "3    11    5.372508  100.0   89.989507  77.448597\n",
       "4    12   37.271773  100.0  100.062959  71.202439"
      ],
      "text/html": "<div>\n<style scoped>\n    .dataframe tbody tr th:only-of-type {\n        vertical-align: middle;\n    }\n\n    .dataframe tbody tr th {\n        vertical-align: top;\n    }\n\n    .dataframe thead th {\n        text-align: right;\n    }\n</style>\n<table border=\"1\" class=\"dataframe\">\n  <thead>\n    <tr style=\"text-align: right;\">\n      <th></th>\n      <th>DHID</th>\n      <th>X</th>\n      <th>Y</th>\n      <th>Z</th>\n      <th>LENGTH</th>\n    </tr>\n  </thead>\n  <tbody>\n    <tr>\n      <td>0</td>\n      <td>0</td>\n      <td>4.533054</td>\n      <td>0.0</td>\n      <td>99.727177</td>\n      <td>79.144237</td>\n    </tr>\n    <tr>\n      <td>1</td>\n      <td>1</td>\n      <td>35.592865</td>\n      <td>0.0</td>\n      <td>112.151102</td>\n      <td>97.982238</td>\n    </tr>\n    <tr>\n      <td>2</td>\n      <td>10</td>\n      <td>158.321091</td>\n      <td>50.0</td>\n      <td>105.771249</td>\n      <td>53.218356</td>\n    </tr>\n    <tr>\n      <td>3</td>\n      <td>11</td>\n      <td>5.372508</td>\n      <td>100.0</td>\n      <td>89.989507</td>\n      <td>77.448597</td>\n    </tr>\n    <tr>\n      <td>4</td>\n      <td>12</td>\n      <td>37.271773</td>\n      <td>100.0</td>\n      <td>100.062959</td>\n      <td>71.202439</td>\n    </tr>\n  </tbody>\n</table>\n</div>"
     },
     "metadata": {},
     "execution_count": 7
    }
   ],
   "source": [
    "collar.head()"
   ]
  },
  {
   "cell_type": "code",
   "execution_count": 7,
   "metadata": {},
   "outputs": [],
   "source": [
    "def get_above_below_idx(arr, val):\n",
    "    above = np.where(arr<val)[0][-1]\n",
    "    below = np.where(arr>val)[0][0]\n",
    "    return above, below"
   ]
  },
  {
   "cell_type": "code",
   "execution_count": 8,
   "metadata": {},
   "outputs": [],
   "source": [
    "def get_survey_interp(assay_depth, dh_survey):\n",
    "    pritn(assay_depth)\n",
    "    a_from, b_from = get_above_below_idx(dh_survey.DEPTH, assay_depth)\n",
    "    length = dh_survey.DEPTH[b_from] - dh_survey.DEPTH[a_from]\n",
    "    dist = assay_depth - dh_survey.DEPTH[a_from]\n",
    "    az, dip = desurvey.interp_survey(dh_survey[a_from].AZIMUTH, dh_survey[a_from].DIP, dh_survey[b_from].AZIMUTH, dh_survey[b_from].DIP, length, dist)\n",
    "    return az, dip\n",
    "\n"
   ]
  },
  {
   "cell_type": "code",
   "execution_count": 9,
   "metadata": {},
   "outputs": [],
   "source": [
    "assay_dh_groups = assay.groupby(\"DHID\")\n",
    "survey_dh_groups = survey.groupby(\"DHID\")"
   ]
  },
  {
   "cell_type": "code",
   "execution_count": 95,
   "metadata": {},
   "outputs": [],
   "source": [
    "assay[\"midpt\"] = (assay.FROM + assay.TO)/2"
   ]
  },
  {
   "cell_type": "code",
   "execution_count": 96,
   "metadata": {},
   "outputs": [],
   "source": [
    "def get_above_below_idx(arr, val):\n",
    "    above = np.where(arr<val)[0][-1]\n",
    "    below = np.where(arr>val)[0][0]\n",
    "    return above, below"
   ]
  },
  {
   "cell_type": "code",
   "execution_count": 188,
   "metadata": {},
   "outputs": [],
   "source": [
    "def get_survey_interp(row, survey):\n",
    "    dhid = row.DHID\n",
    "    assay_depth = row.midpt\n",
    "    dh_survey = survey[survey.DHID == dhid].reset_index()\n",
    "    a_from, b_from = get_above_below_idx(dh_survey.DEPTH, assay_depth)\n",
    "    length = dh_survey.DEPTH[b_from] - dh_survey.DEPTH[a_from]\n",
    "    dist = assay_depth - dh_survey.DEPTH[a_from]\n",
    "    top = survey.iloc[a_from]\n",
    "    bottom = survey.iloc[b_from]\n",
    "\n",
    "    az, dip = desurvey.interp_survey(top.AZIMUTH, top.DIP,        bottom.AZIMUTH, bottom.DIP, length, dist)\n",
    "    return int(dhid), az, dip, assay_depth"
   ]
  },
  {
   "source": [
    "interp = assay.apply(get_survey_interp, args=(survey,), axis=1, result_type=\"expand\").compute()"
   ],
   "cell_type": "code",
   "metadata": {
    "tags": []
   },
   "execution_count": 189,
   "outputs": []
  },
  {
   "cell_type": "code",
   "execution_count": 194,
   "metadata": {},
   "outputs": [],
   "source": [
    "interp.rename(columns=dict(zip(interp.columns,[\"DHID\",\"AZIMUTH\",\"DIP\", \"DEPTH\"])), inplace=True)"
   ]
  },
  {
   "cell_type": "code",
   "execution_count": 195,
   "metadata": {},
   "outputs": [
    {
     "output_type": "execute_result",
     "data": {
      "text/plain": [
       "      DHID  AZIMUTH        DIP  DEPTH\n",
       "0      0.0     90.0  86.774086    0.5\n",
       "1      0.0     90.0  86.774086    1.5\n",
       "2      0.0     90.0  86.774086    2.5\n",
       "3      0.0     90.0  86.774086    3.5\n",
       "4      0.0     90.0  86.774086    4.5\n",
       "...    ...      ...        ...    ...\n",
       "1877   9.0     90.0  82.366471   54.5\n",
       "1878   9.0     90.0  82.250275   55.5\n",
       "1879   9.0     90.0  82.135786   56.5\n",
       "1880   9.0     90.0  82.022930   57.5\n",
       "1881   9.0     90.0  81.911638   58.5\n",
       "\n",
       "[1882 rows x 4 columns]"
      ],
      "text/html": "<div>\n<style scoped>\n    .dataframe tbody tr th:only-of-type {\n        vertical-align: middle;\n    }\n\n    .dataframe tbody tr th {\n        vertical-align: top;\n    }\n\n    .dataframe thead th {\n        text-align: right;\n    }\n</style>\n<table border=\"1\" class=\"dataframe\">\n  <thead>\n    <tr style=\"text-align: right;\">\n      <th></th>\n      <th>DHID</th>\n      <th>AZIMUTH</th>\n      <th>DIP</th>\n      <th>DEPTH</th>\n    </tr>\n  </thead>\n  <tbody>\n    <tr>\n      <td>0</td>\n      <td>0.0</td>\n      <td>90.0</td>\n      <td>86.774086</td>\n      <td>0.5</td>\n    </tr>\n    <tr>\n      <td>1</td>\n      <td>0.0</td>\n      <td>90.0</td>\n      <td>86.774086</td>\n      <td>1.5</td>\n    </tr>\n    <tr>\n      <td>2</td>\n      <td>0.0</td>\n      <td>90.0</td>\n      <td>86.774086</td>\n      <td>2.5</td>\n    </tr>\n    <tr>\n      <td>3</td>\n      <td>0.0</td>\n      <td>90.0</td>\n      <td>86.774086</td>\n      <td>3.5</td>\n    </tr>\n    <tr>\n      <td>4</td>\n      <td>0.0</td>\n      <td>90.0</td>\n      <td>86.774086</td>\n      <td>4.5</td>\n    </tr>\n    <tr>\n      <td>...</td>\n      <td>...</td>\n      <td>...</td>\n      <td>...</td>\n      <td>...</td>\n    </tr>\n    <tr>\n      <td>1877</td>\n      <td>9.0</td>\n      <td>90.0</td>\n      <td>82.366471</td>\n      <td>54.5</td>\n    </tr>\n    <tr>\n      <td>1878</td>\n      <td>9.0</td>\n      <td>90.0</td>\n      <td>82.250275</td>\n      <td>55.5</td>\n    </tr>\n    <tr>\n      <td>1879</td>\n      <td>9.0</td>\n      <td>90.0</td>\n      <td>82.135786</td>\n      <td>56.5</td>\n    </tr>\n    <tr>\n      <td>1880</td>\n      <td>9.0</td>\n      <td>90.0</td>\n      <td>82.022930</td>\n      <td>57.5</td>\n    </tr>\n    <tr>\n      <td>1881</td>\n      <td>9.0</td>\n      <td>90.0</td>\n      <td>81.911638</td>\n      <td>58.5</td>\n    </tr>\n  </tbody>\n</table>\n<p>1882 rows × 4 columns</p>\n</div>"
     },
     "metadata": {},
     "execution_count": 195
    }
   ],
   "source": [
    "interp"
   ]
  },
  {
   "cell_type": "code",
   "execution_count": 196,
   "metadata": {},
   "outputs": [
    {
     "output_type": "execute_result",
     "data": {
      "text/plain": [
       "      dhid         x             y          z\n",
       "0      0.0  4.533054  0.000000e+00  99.727177\n",
       "1      0.0  0.056273  3.445732e-18  98.728762\n",
       "2      0.0  0.056273  3.445732e-18  97.730347\n",
       "3      0.0  0.056273  3.445732e-18  96.731931\n",
       "4      0.0  0.056273  3.445732e-18  95.733516\n",
       "...    ...       ...           ...        ...\n",
       "1877   9.0  0.131816  8.071394e-18  48.785714\n",
       "1878   9.0  0.133841  8.195418e-18  47.794712\n",
       "1879   9.0  0.135836  8.317560e-18  46.803981\n",
       "1880   9.0  0.137801  8.437900e-18  45.813521\n",
       "1881   9.0  0.139739  8.556516e-18  44.823333\n",
       "\n",
       "[1882 rows x 4 columns]"
      ],
      "text/html": "<div>\n<style scoped>\n    .dataframe tbody tr th:only-of-type {\n        vertical-align: middle;\n    }\n\n    .dataframe tbody tr th {\n        vertical-align: top;\n    }\n\n    .dataframe thead th {\n        text-align: right;\n    }\n</style>\n<table border=\"1\" class=\"dataframe\">\n  <thead>\n    <tr style=\"text-align: right;\">\n      <th></th>\n      <th>dhid</th>\n      <th>x</th>\n      <th>y</th>\n      <th>z</th>\n    </tr>\n  </thead>\n  <tbody>\n    <tr>\n      <td>0</td>\n      <td>0.0</td>\n      <td>4.533054</td>\n      <td>0.000000e+00</td>\n      <td>99.727177</td>\n    </tr>\n    <tr>\n      <td>1</td>\n      <td>0.0</td>\n      <td>0.056273</td>\n      <td>3.445732e-18</td>\n      <td>98.728762</td>\n    </tr>\n    <tr>\n      <td>2</td>\n      <td>0.0</td>\n      <td>0.056273</td>\n      <td>3.445732e-18</td>\n      <td>97.730347</td>\n    </tr>\n    <tr>\n      <td>3</td>\n      <td>0.0</td>\n      <td>0.056273</td>\n      <td>3.445732e-18</td>\n      <td>96.731931</td>\n    </tr>\n    <tr>\n      <td>4</td>\n      <td>0.0</td>\n      <td>0.056273</td>\n      <td>3.445732e-18</td>\n      <td>95.733516</td>\n    </tr>\n    <tr>\n      <td>...</td>\n      <td>...</td>\n      <td>...</td>\n      <td>...</td>\n      <td>...</td>\n    </tr>\n    <tr>\n      <td>1877</td>\n      <td>9.0</td>\n      <td>0.131816</td>\n      <td>8.071394e-18</td>\n      <td>48.785714</td>\n    </tr>\n    <tr>\n      <td>1878</td>\n      <td>9.0</td>\n      <td>0.133841</td>\n      <td>8.195418e-18</td>\n      <td>47.794712</td>\n    </tr>\n    <tr>\n      <td>1879</td>\n      <td>9.0</td>\n      <td>0.135836</td>\n      <td>8.317560e-18</td>\n      <td>46.803981</td>\n    </tr>\n    <tr>\n      <td>1880</td>\n      <td>9.0</td>\n      <td>0.137801</td>\n      <td>8.437900e-18</td>\n      <td>45.813521</td>\n    </tr>\n    <tr>\n      <td>1881</td>\n      <td>9.0</td>\n      <td>0.139739</td>\n      <td>8.556516e-18</td>\n      <td>44.823333</td>\n    </tr>\n  </tbody>\n</table>\n<p>1882 rows × 4 columns</p>\n</div>"
     },
     "metadata": {},
     "execution_count": 196
    }
   ],
   "source": [
    "desurvey.desurvey(interp, collar)"
   ]
  },
  {
   "cell_type": "code",
   "execution_count": null,
   "metadata": {},
   "outputs": [],
   "source": []
  }
 ]
}