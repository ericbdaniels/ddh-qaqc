{
 "metadata": {
  "language_info": {
   "codemirror_mode": {
    "name": "ipython",
    "version": 3
   },
   "file_extension": ".py",
   "mimetype": "text/x-python",
   "name": "python",
   "nbconvert_exporter": "python",
   "pygments_lexer": "ipython3",
   "version": "3.7.3-final"
  },
  "orig_nbformat": 2,
  "kernelspec": {
   "name": "python3",
   "display_name": "Python 3"
  }
 },
 "nbformat": 4,
 "nbformat_minor": 2,
 "cells": [
  {
   "cell_type": "code",
   "execution_count": 38,
   "metadata": {},
   "outputs": [],
   "source": [
    "import numpy as np\n",
    "\n",
    "\n",
    "def composite(ifrom, ito, values, comp_length=1.0, min_comp_length=-1.0):\n",
    "    \"\"\"\n",
    "    cfrom,cto,clen,cvar,cacum= composite(ifrom, ito, values,\n",
    "                                        comp_length = 1, min_comp_length=-1)\n",
    "\n",
    "    Composite intervals in a single drillhole. The From-To\n",
    "    intervals may be sorted.\n",
    "\n",
    "    Parameters\n",
    "    ----------\n",
    "    ifrom, ito:     1D arrays of floats\n",
    "        From - To  interval\n",
    "    values :   1D array of floats/integers\n",
    "        variable,\n",
    "    comp_length: Optional, float, default 1.\n",
    "        length of the compositing intervals\n",
    "    min_comp_length: Optional, float, defaul -1.\n",
    "        minimum length of the composite, if <=0 then min_comp_length = comp_length/2.\n",
    "\n",
    "    Return\n",
    "    -------\n",
    "    (cfrom, cto, clen, cvar, cacum)\n",
    "    cfrom, cto:  1D arrays of floats\n",
    "         From, To composited intervals\n",
    "    clen, cvar, cacum:  1D arrays of floats\n",
    "         total length of intervals composited\n",
    "         variable composited\n",
    "         variable accumulated\n",
    "\n",
    "    \"\"\"\n",
    "\n",
    "    assert ifrom.shape == ito.shape, \"Error: ifrom and ito with different shape\"\n",
    "    assert all(ifrom < ito), \"Error: ifrom >= ito, wrong or zero length intervals\"\n",
    "    assert all(np.isfinite(ifrom)), \"Error: ifrom with not finite elements\"\n",
    "    assert all(np.isfinite(ito)), \"Error: ito with not finite elements\"\n",
    "\n",
    "    if min_comp_length <= 0:\n",
    "        min_comp_length = comp_length / 2.0\n",
    "\n",
    "    ncomp = int(ito[-1] / comp_length + 1)\n",
    "    nintrb = len(ifrom)\n",
    "\n",
    "    # create the composite arrays\n",
    "    cfrom = np.arange(0.0, ito[-1] + comp_length, comp_length)\n",
    "    cto = cfrom + comp_length\n",
    "    clen = np.zeros(cto.shape)\n",
    "    cvar = np.zeros(cto.shape)\n",
    "    cvar[:] = np.nan\n",
    "    cacum = np.zeros(cto.shape)\n",
    "\n",
    "    iprop = np.zeros(ito.shape)\n",
    "\n",
    "    # for each composite\n",
    "    for i in range(ncomp):\n",
    "\n",
    "        # initialize proportions\n",
    "        iprop[:] = 0\n",
    "\n",
    "        # for each interval\n",
    "        for l in range(nintrb):\n",
    "\n",
    "            # ignore interval if variable is nan\n",
    "            if np.isnan(values[l]):\n",
    "                continue\n",
    "\n",
    "            # case a, below the composite\n",
    "            if ifrom[l] >= cto[i]:\n",
    "                break\n",
    "\n",
    "            # case b, over the composite\n",
    "            if ito[l] <= cfrom[i]:\n",
    "                continue\n",
    "\n",
    "            # --these are overlap--\n",
    "\n",
    "            # case overlap top or contained\n",
    "            if ito[l] > cfrom[i] and ito[l] <= cto[i]:\n",
    "\n",
    "                # case c, interval in composite\n",
    "                if ifrom[l] >= cfrom[i]:\n",
    "                    iprop[l] = ito[l] - ifrom[l]\n",
    "\n",
    "                # case d, overlap top\n",
    "                else:\n",
    "                    iprop[l] = ito[l] - cfrom[i]\n",
    "\n",
    "            # case e, composite in interval\n",
    "            if ifrom[l] < cfrom[i] and ito[l] > cto[i]:\n",
    "                iprop[l] = cto[i] - cfrom[i]\n",
    "                continue\n",
    "\n",
    "            # case f, overlap bottom\n",
    "            if ifrom[l] >= cfrom[i] and ifrom[l] < cto[i] and ito[l] > cto[i]:\n",
    "                iprop[l] = cto[i] - ifrom[l]\n",
    "                continue\n",
    "\n",
    "        clen[i] = np.nansum(iprop)\n",
    "\n",
    "        if clen[i] > min_comp_length:\n",
    "            cacum[i] = np.nansum(values * iprop)\n",
    "            cvar[i] = cacum[i] / clen[i]  # wighted average\n",
    "        else:\n",
    "            cvar[i] = np.nan\n",
    "            cacum[i] = np.nan\n",
    "\n",
    "    return pd.DataFrame({\"from\":cfrom, \"to\":cto, \"len\":clen, \"value\":cvar}"
   ]
  },
  {
   "cell_type": "code",
   "execution_count": 39,
   "metadata": {},
   "outputs": [],
   "source": [
    "import pandas as pd"
   ]
  },
  {
   "cell_type": "code",
   "execution_count": 40,
   "metadata": {},
   "outputs": [],
   "source": [
    "assay = pd.read_csv(\"../data/assay.csv\")"
   ]
  },
  {
   "cell_type": "code",
   "execution_count": 41,
   "metadata": {},
   "outputs": [
    {
     "output_type": "execute_result",
     "data": {
      "text/plain": [
       "   DHID  FROM   TO  _len  DUM  _acum  azmm       dipm        xm            ym  \\\n",
       "0     0   0.0  1.0   1.0  0.0    0.0  90.0  86.774025  4.561190 -1.229899e-09   \n",
       "1     0   1.0  2.0   1.0  0.0    0.0  90.0  86.774147  4.617463 -3.689650e-09   \n",
       "2     0   2.0  3.0   1.0  0.0    0.0  90.0  86.774086  4.673736 -6.149413e-09   \n",
       "3     0   3.0  4.0   1.0  0.0    0.0  90.0  86.774086  4.730009 -8.609211e-09   \n",
       "4     0   4.0  5.0   1.0  0.0    0.0  90.0  86.774086  4.786282 -1.106898e-08   \n",
       "\n",
       "   ...  azme       dipe        xe            ye         ze  dist_hw  dist_fw  \\\n",
       "0  ...  90.0  86.774147  4.589327 -2.459786e-09  98.728762     -1.0     -1.0   \n",
       "1  ...  90.0  86.774086  4.645599 -4.919526e-09  97.730346     -1.0     -1.0   \n",
       "2  ...  90.0  86.774025  4.701872 -7.379312e-09  96.731931     -1.0     -1.0   \n",
       "3  ...  90.0  86.774086  4.758146 -9.839098e-09  95.733516     -1.0     -1.0   \n",
       "4  ...  90.0  86.774086  4.814419 -1.229887e-08  94.735100     -1.0     -1.0   \n",
       "\n",
       "   D1_surf  D1_solid   Au  \n",
       "0     -1.0         0  0.0  \n",
       "1     -1.0         0  0.0  \n",
       "2     -1.0         0  0.0  \n",
       "3     -1.0         0  0.0  \n",
       "4     -1.0         0  0.0  \n",
       "\n",
       "[5 rows x 26 columns]"
      ],
      "text/html": "<div>\n<style scoped>\n    .dataframe tbody tr th:only-of-type {\n        vertical-align: middle;\n    }\n\n    .dataframe tbody tr th {\n        vertical-align: top;\n    }\n\n    .dataframe thead th {\n        text-align: right;\n    }\n</style>\n<table border=\"1\" class=\"dataframe\">\n  <thead>\n    <tr style=\"text-align: right;\">\n      <th></th>\n      <th>DHID</th>\n      <th>FROM</th>\n      <th>TO</th>\n      <th>_len</th>\n      <th>DUM</th>\n      <th>_acum</th>\n      <th>azmm</th>\n      <th>dipm</th>\n      <th>xm</th>\n      <th>ym</th>\n      <th>...</th>\n      <th>azme</th>\n      <th>dipe</th>\n      <th>xe</th>\n      <th>ye</th>\n      <th>ze</th>\n      <th>dist_hw</th>\n      <th>dist_fw</th>\n      <th>D1_surf</th>\n      <th>D1_solid</th>\n      <th>Au</th>\n    </tr>\n  </thead>\n  <tbody>\n    <tr>\n      <td>0</td>\n      <td>0</td>\n      <td>0.0</td>\n      <td>1.0</td>\n      <td>1.0</td>\n      <td>0.0</td>\n      <td>0.0</td>\n      <td>90.0</td>\n      <td>86.774025</td>\n      <td>4.561190</td>\n      <td>-1.229899e-09</td>\n      <td>...</td>\n      <td>90.0</td>\n      <td>86.774147</td>\n      <td>4.589327</td>\n      <td>-2.459786e-09</td>\n      <td>98.728762</td>\n      <td>-1.0</td>\n      <td>-1.0</td>\n      <td>-1.0</td>\n      <td>0</td>\n      <td>0.0</td>\n    </tr>\n    <tr>\n      <td>1</td>\n      <td>0</td>\n      <td>1.0</td>\n      <td>2.0</td>\n      <td>1.0</td>\n      <td>0.0</td>\n      <td>0.0</td>\n      <td>90.0</td>\n      <td>86.774147</td>\n      <td>4.617463</td>\n      <td>-3.689650e-09</td>\n      <td>...</td>\n      <td>90.0</td>\n      <td>86.774086</td>\n      <td>4.645599</td>\n      <td>-4.919526e-09</td>\n      <td>97.730346</td>\n      <td>-1.0</td>\n      <td>-1.0</td>\n      <td>-1.0</td>\n      <td>0</td>\n      <td>0.0</td>\n    </tr>\n    <tr>\n      <td>2</td>\n      <td>0</td>\n      <td>2.0</td>\n      <td>3.0</td>\n      <td>1.0</td>\n      <td>0.0</td>\n      <td>0.0</td>\n      <td>90.0</td>\n      <td>86.774086</td>\n      <td>4.673736</td>\n      <td>-6.149413e-09</td>\n      <td>...</td>\n      <td>90.0</td>\n      <td>86.774025</td>\n      <td>4.701872</td>\n      <td>-7.379312e-09</td>\n      <td>96.731931</td>\n      <td>-1.0</td>\n      <td>-1.0</td>\n      <td>-1.0</td>\n      <td>0</td>\n      <td>0.0</td>\n    </tr>\n    <tr>\n      <td>3</td>\n      <td>0</td>\n      <td>3.0</td>\n      <td>4.0</td>\n      <td>1.0</td>\n      <td>0.0</td>\n      <td>0.0</td>\n      <td>90.0</td>\n      <td>86.774086</td>\n      <td>4.730009</td>\n      <td>-8.609211e-09</td>\n      <td>...</td>\n      <td>90.0</td>\n      <td>86.774086</td>\n      <td>4.758146</td>\n      <td>-9.839098e-09</td>\n      <td>95.733516</td>\n      <td>-1.0</td>\n      <td>-1.0</td>\n      <td>-1.0</td>\n      <td>0</td>\n      <td>0.0</td>\n    </tr>\n    <tr>\n      <td>4</td>\n      <td>0</td>\n      <td>4.0</td>\n      <td>5.0</td>\n      <td>1.0</td>\n      <td>0.0</td>\n      <td>0.0</td>\n      <td>90.0</td>\n      <td>86.774086</td>\n      <td>4.786282</td>\n      <td>-1.106898e-08</td>\n      <td>...</td>\n      <td>90.0</td>\n      <td>86.774086</td>\n      <td>4.814419</td>\n      <td>-1.229887e-08</td>\n      <td>94.735100</td>\n      <td>-1.0</td>\n      <td>-1.0</td>\n      <td>-1.0</td>\n      <td>0</td>\n      <td>0.0</td>\n    </tr>\n  </tbody>\n</table>\n<p>5 rows × 26 columns</p>\n</div>"
     },
     "metadata": {},
     "execution_count": 41
    }
   ],
   "source": [
    "assay.head()"
   ]
  },
  {
   "cell_type": "code",
   "execution_count": 42,
   "metadata": {},
   "outputs": [],
   "source": [
    "dh = assay[assay.DHID==1]"
   ]
  },
  {
   "cell_type": "code",
   "execution_count": 43,
   "metadata": {},
   "outputs": [
    {
     "output_type": "execute_result",
     "data": {
      "text/plain": [
       "     from     to  len     value  cumulative\n",
       "0     0.0    5.0  5.0  0.000000    0.000000\n",
       "1     5.0   10.0  5.0  0.000000    0.000000\n",
       "2    10.0   15.0  5.0  0.000000    0.000000\n",
       "3    15.0   20.0  5.0  0.000000    0.000000\n",
       "4    20.0   25.0  5.0  0.000000    0.000000\n",
       "5    25.0   30.0  5.0  0.000000    0.000000\n",
       "6    30.0   35.0  5.0  0.000000    0.000000\n",
       "7    35.0   40.0  5.0  0.000000    0.000000\n",
       "8    40.0   45.0  5.0  0.000000    0.000000\n",
       "9    45.0   50.0  5.0  0.000000    0.000000\n",
       "10   50.0   55.0  5.0  0.000000    0.000000\n",
       "11   55.0   60.0  5.0  0.206702    1.033509\n",
       "12   60.0   65.0  5.0  0.445815    2.229076\n",
       "13   65.0   70.0  5.0  0.634242    3.171212\n",
       "14   70.0   75.0  5.0  1.131188    5.655940\n",
       "15   75.0   80.0  5.0  0.524310    2.621549\n",
       "16   80.0   85.0  5.0  0.882922    4.414611\n",
       "17   85.0   90.0  5.0  0.119159    0.595795\n",
       "18   90.0   95.0  5.0  0.000000    0.000000\n",
       "19   95.0  100.0  3.0  0.000000    0.000000\n",
       "20  100.0  105.0  0.0       NaN    0.000000"
      ],
      "text/html": "<div>\n<style scoped>\n    .dataframe tbody tr th:only-of-type {\n        vertical-align: middle;\n    }\n\n    .dataframe tbody tr th {\n        vertical-align: top;\n    }\n\n    .dataframe thead th {\n        text-align: right;\n    }\n</style>\n<table border=\"1\" class=\"dataframe\">\n  <thead>\n    <tr style=\"text-align: right;\">\n      <th></th>\n      <th>from</th>\n      <th>to</th>\n      <th>len</th>\n      <th>value</th>\n      <th>cumulative</th>\n    </tr>\n  </thead>\n  <tbody>\n    <tr>\n      <td>0</td>\n      <td>0.0</td>\n      <td>5.0</td>\n      <td>5.0</td>\n      <td>0.000000</td>\n      <td>0.000000</td>\n    </tr>\n    <tr>\n      <td>1</td>\n      <td>5.0</td>\n      <td>10.0</td>\n      <td>5.0</td>\n      <td>0.000000</td>\n      <td>0.000000</td>\n    </tr>\n    <tr>\n      <td>2</td>\n      <td>10.0</td>\n      <td>15.0</td>\n      <td>5.0</td>\n      <td>0.000000</td>\n      <td>0.000000</td>\n    </tr>\n    <tr>\n      <td>3</td>\n      <td>15.0</td>\n      <td>20.0</td>\n      <td>5.0</td>\n      <td>0.000000</td>\n      <td>0.000000</td>\n    </tr>\n    <tr>\n      <td>4</td>\n      <td>20.0</td>\n      <td>25.0</td>\n      <td>5.0</td>\n      <td>0.000000</td>\n      <td>0.000000</td>\n    </tr>\n    <tr>\n      <td>5</td>\n      <td>25.0</td>\n      <td>30.0</td>\n      <td>5.0</td>\n      <td>0.000000</td>\n      <td>0.000000</td>\n    </tr>\n    <tr>\n      <td>6</td>\n      <td>30.0</td>\n      <td>35.0</td>\n      <td>5.0</td>\n      <td>0.000000</td>\n      <td>0.000000</td>\n    </tr>\n    <tr>\n      <td>7</td>\n      <td>35.0</td>\n      <td>40.0</td>\n      <td>5.0</td>\n      <td>0.000000</td>\n      <td>0.000000</td>\n    </tr>\n    <tr>\n      <td>8</td>\n      <td>40.0</td>\n      <td>45.0</td>\n      <td>5.0</td>\n      <td>0.000000</td>\n      <td>0.000000</td>\n    </tr>\n    <tr>\n      <td>9</td>\n      <td>45.0</td>\n      <td>50.0</td>\n      <td>5.0</td>\n      <td>0.000000</td>\n      <td>0.000000</td>\n    </tr>\n    <tr>\n      <td>10</td>\n      <td>50.0</td>\n      <td>55.0</td>\n      <td>5.0</td>\n      <td>0.000000</td>\n      <td>0.000000</td>\n    </tr>\n    <tr>\n      <td>11</td>\n      <td>55.0</td>\n      <td>60.0</td>\n      <td>5.0</td>\n      <td>0.206702</td>\n      <td>1.033509</td>\n    </tr>\n    <tr>\n      <td>12</td>\n      <td>60.0</td>\n      <td>65.0</td>\n      <td>5.0</td>\n      <td>0.445815</td>\n      <td>2.229076</td>\n    </tr>\n    <tr>\n      <td>13</td>\n      <td>65.0</td>\n      <td>70.0</td>\n      <td>5.0</td>\n      <td>0.634242</td>\n      <td>3.171212</td>\n    </tr>\n    <tr>\n      <td>14</td>\n      <td>70.0</td>\n      <td>75.0</td>\n      <td>5.0</td>\n      <td>1.131188</td>\n      <td>5.655940</td>\n    </tr>\n    <tr>\n      <td>15</td>\n      <td>75.0</td>\n      <td>80.0</td>\n      <td>5.0</td>\n      <td>0.524310</td>\n      <td>2.621549</td>\n    </tr>\n    <tr>\n      <td>16</td>\n      <td>80.0</td>\n      <td>85.0</td>\n      <td>5.0</td>\n      <td>0.882922</td>\n      <td>4.414611</td>\n    </tr>\n    <tr>\n      <td>17</td>\n      <td>85.0</td>\n      <td>90.0</td>\n      <td>5.0</td>\n      <td>0.119159</td>\n      <td>0.595795</td>\n    </tr>\n    <tr>\n      <td>18</td>\n      <td>90.0</td>\n      <td>95.0</td>\n      <td>5.0</td>\n      <td>0.000000</td>\n      <td>0.000000</td>\n    </tr>\n    <tr>\n      <td>19</td>\n      <td>95.0</td>\n      <td>100.0</td>\n      <td>3.0</td>\n      <td>0.000000</td>\n      <td>0.000000</td>\n    </tr>\n    <tr>\n      <td>20</td>\n      <td>100.0</td>\n      <td>105.0</td>\n      <td>0.0</td>\n      <td>NaN</td>\n      <td>0.000000</td>\n    </tr>\n  </tbody>\n</table>\n</div>"
     },
     "metadata": {},
     "execution_count": 43
    }
   ],
   "source": [
    "composite(dh.FROM.values, dh.TO.values, dh.Au.values, comp_length=5)"
   ]
  },
  {
   "cell_type": "code",
   "execution_count": 44,
   "metadata": {},
   "outputs": [],
   "source": [
    "def composite_dh(dh, comp_len, var_name):\n",
    "    comps =  composite(dh.FROM.values, dh.TO.values, dh[var_name].values, comp_len)\n",
    "    return comps.reset_index()\n",
    "    "
   ]
  },
  {
   "cell_type": "code",
   "execution_count": 45,
   "metadata": {},
   "outputs": [],
   "source": [
    "groups = assay.groupby(\"DHID\")\n",
    "result = groups.apply(composite_dh, 5,\"Au\")"
   ]
  },
  {
   "cell_type": "code",
   "execution_count": 46,
   "metadata": {},
   "outputs": [
    {
     "output_type": "execute_result",
     "data": {
      "text/plain": [
       "array([[ 0.,  5.,  5.,  0.,  0.],\n",
       "       [ 5., 10.,  5.,  0.,  0.],\n",
       "       [10., 15.,  5.,  0.,  0.],\n",
       "       ...,\n",
       "       [20., 25.,  5.,  0.,  0.],\n",
       "       [25., 30.,  5.,  0.,  0.],\n",
       "       [30., 35.,  0., nan, nan]])"
      ]
     },
     "metadata": {},
     "execution_count": 46
    }
   ],
   "source": [
    "result.values"
   ]
  },
  {
   "cell_type": "code",
   "execution_count": 50,
   "metadata": {},
   "outputs": [],
   "source": [
    "comps = result.reset_index()"
   ]
  },
  {
   "cell_type": "code",
   "execution_count": null,
   "metadata": {},
   "outputs": [],
   "source": []
  },
  {
   "cell_type": "code",
   "execution_count": 53,
   "metadata": {},
   "outputs": [
    {
     "output_type": "execute_result",
     "data": {
      "text/plain": [
       "     DHID  level_1  from    to  len     value  cumulative\n",
       "102     6        0   0.0   5.0  5.0  0.000000    0.000000\n",
       "103     6        1   5.0  10.0  5.0  0.000000    0.000000\n",
       "104     6        2  10.0  15.0  5.0  0.000000    0.000000\n",
       "105     6        3  15.0  20.0  5.0  0.000000    0.000000\n",
       "106     6        4  20.0  25.0  5.0  0.000000    0.000000\n",
       "107     6        5  25.0  30.0  5.0  0.000000    0.000000\n",
       "108     6        6  30.0  35.0  5.0  0.000000    0.000000\n",
       "109     6        7  35.0  40.0  5.0  0.000000    0.000000\n",
       "110     6        8  40.0  45.0  5.0  0.000000    0.000000\n",
       "111     6        9  45.0  50.0  5.0  0.000000    0.000000\n",
       "112     6       10  50.0  55.0  5.0  0.000000    0.000000\n",
       "113     6       11  55.0  60.0  5.0  0.698747    3.493737\n",
       "114     6       12  60.0  65.0  5.0  1.409446    7.047230\n",
       "115     6       13  65.0  70.0  5.0  2.117419   10.587094\n",
       "116     6       14  70.0  75.0  5.0  0.694458    3.472292\n",
       "117     6       15  75.0  80.0  5.0  0.027800    0.139002\n",
       "118     6       16  80.0  85.0  5.0  0.000000    0.000000\n",
       "119     6       17  85.0  90.0  4.0  0.000000    0.000000\n",
       "120     6       18  90.0  95.0  0.0       NaN    0.000000"
      ],
      "text/html": "<div>\n<style scoped>\n    .dataframe tbody tr th:only-of-type {\n        vertical-align: middle;\n    }\n\n    .dataframe tbody tr th {\n        vertical-align: top;\n    }\n\n    .dataframe thead th {\n        text-align: right;\n    }\n</style>\n<table border=\"1\" class=\"dataframe\">\n  <thead>\n    <tr style=\"text-align: right;\">\n      <th></th>\n      <th>DHID</th>\n      <th>level_1</th>\n      <th>from</th>\n      <th>to</th>\n      <th>len</th>\n      <th>value</th>\n      <th>cumulative</th>\n    </tr>\n  </thead>\n  <tbody>\n    <tr>\n      <td>102</td>\n      <td>6</td>\n      <td>0</td>\n      <td>0.0</td>\n      <td>5.0</td>\n      <td>5.0</td>\n      <td>0.000000</td>\n      <td>0.000000</td>\n    </tr>\n    <tr>\n      <td>103</td>\n      <td>6</td>\n      <td>1</td>\n      <td>5.0</td>\n      <td>10.0</td>\n      <td>5.0</td>\n      <td>0.000000</td>\n      <td>0.000000</td>\n    </tr>\n    <tr>\n      <td>104</td>\n      <td>6</td>\n      <td>2</td>\n      <td>10.0</td>\n      <td>15.0</td>\n      <td>5.0</td>\n      <td>0.000000</td>\n      <td>0.000000</td>\n    </tr>\n    <tr>\n      <td>105</td>\n      <td>6</td>\n      <td>3</td>\n      <td>15.0</td>\n      <td>20.0</td>\n      <td>5.0</td>\n      <td>0.000000</td>\n      <td>0.000000</td>\n    </tr>\n    <tr>\n      <td>106</td>\n      <td>6</td>\n      <td>4</td>\n      <td>20.0</td>\n      <td>25.0</td>\n      <td>5.0</td>\n      <td>0.000000</td>\n      <td>0.000000</td>\n    </tr>\n    <tr>\n      <td>107</td>\n      <td>6</td>\n      <td>5</td>\n      <td>25.0</td>\n      <td>30.0</td>\n      <td>5.0</td>\n      <td>0.000000</td>\n      <td>0.000000</td>\n    </tr>\n    <tr>\n      <td>108</td>\n      <td>6</td>\n      <td>6</td>\n      <td>30.0</td>\n      <td>35.0</td>\n      <td>5.0</td>\n      <td>0.000000</td>\n      <td>0.000000</td>\n    </tr>\n    <tr>\n      <td>109</td>\n      <td>6</td>\n      <td>7</td>\n      <td>35.0</td>\n      <td>40.0</td>\n      <td>5.0</td>\n      <td>0.000000</td>\n      <td>0.000000</td>\n    </tr>\n    <tr>\n      <td>110</td>\n      <td>6</td>\n      <td>8</td>\n      <td>40.0</td>\n      <td>45.0</td>\n      <td>5.0</td>\n      <td>0.000000</td>\n      <td>0.000000</td>\n    </tr>\n    <tr>\n      <td>111</td>\n      <td>6</td>\n      <td>9</td>\n      <td>45.0</td>\n      <td>50.0</td>\n      <td>5.0</td>\n      <td>0.000000</td>\n      <td>0.000000</td>\n    </tr>\n    <tr>\n      <td>112</td>\n      <td>6</td>\n      <td>10</td>\n      <td>50.0</td>\n      <td>55.0</td>\n      <td>5.0</td>\n      <td>0.000000</td>\n      <td>0.000000</td>\n    </tr>\n    <tr>\n      <td>113</td>\n      <td>6</td>\n      <td>11</td>\n      <td>55.0</td>\n      <td>60.0</td>\n      <td>5.0</td>\n      <td>0.698747</td>\n      <td>3.493737</td>\n    </tr>\n    <tr>\n      <td>114</td>\n      <td>6</td>\n      <td>12</td>\n      <td>60.0</td>\n      <td>65.0</td>\n      <td>5.0</td>\n      <td>1.409446</td>\n      <td>7.047230</td>\n    </tr>\n    <tr>\n      <td>115</td>\n      <td>6</td>\n      <td>13</td>\n      <td>65.0</td>\n      <td>70.0</td>\n      <td>5.0</td>\n      <td>2.117419</td>\n      <td>10.587094</td>\n    </tr>\n    <tr>\n      <td>116</td>\n      <td>6</td>\n      <td>14</td>\n      <td>70.0</td>\n      <td>75.0</td>\n      <td>5.0</td>\n      <td>0.694458</td>\n      <td>3.472292</td>\n    </tr>\n    <tr>\n      <td>117</td>\n      <td>6</td>\n      <td>15</td>\n      <td>75.0</td>\n      <td>80.0</td>\n      <td>5.0</td>\n      <td>0.027800</td>\n      <td>0.139002</td>\n    </tr>\n    <tr>\n      <td>118</td>\n      <td>6</td>\n      <td>16</td>\n      <td>80.0</td>\n      <td>85.0</td>\n      <td>5.0</td>\n      <td>0.000000</td>\n      <td>0.000000</td>\n    </tr>\n    <tr>\n      <td>119</td>\n      <td>6</td>\n      <td>17</td>\n      <td>85.0</td>\n      <td>90.0</td>\n      <td>4.0</td>\n      <td>0.000000</td>\n      <td>0.000000</td>\n    </tr>\n    <tr>\n      <td>120</td>\n      <td>6</td>\n      <td>18</td>\n      <td>90.0</td>\n      <td>95.0</td>\n      <td>0.0</td>\n      <td>NaN</td>\n      <td>0.000000</td>\n    </tr>\n  </tbody>\n</table>\n</div>"
     },
     "metadata": {},
     "execution_count": 53
    }
   ],
   "source": [
    "comps[comps.DHID==6]"
   ]
  },
  {
   "cell_type": "code",
   "execution_count": null,
   "metadata": {},
   "outputs": [],
   "source": []
  }
 ]
}